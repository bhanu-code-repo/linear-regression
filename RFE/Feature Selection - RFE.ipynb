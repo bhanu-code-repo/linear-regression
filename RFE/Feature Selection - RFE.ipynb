{
 "cells": [
  {
   "cell_type": "code",
   "execution_count": null,
   "id": "95c3d99c",
   "metadata": {},
   "outputs": [],
   "source": []
  },
  {
   "cell_type": "code",
   "execution_count": 1,
   "id": "686d2c33",
   "metadata": {},
   "outputs": [],
   "source": [
    "# Importing Packages\n",
    "import pandas as pd\n",
    "import numpy as np\n",
    "import seaborn as sns\n",
    "import matplotlib.pyplot as plt\n",
    "\n",
    "import warnings\n",
    "warnings.filterwarnings('ignore')"
   ]
  },
  {
   "cell_type": "code",
   "execution_count": 2,
   "id": "baa28ae4",
   "metadata": {},
   "outputs": [
    {
     "data": {
      "text/plain": [
       "(1503, 6)"
      ]
     },
     "execution_count": 2,
     "metadata": {},
     "output_type": "execute_result"
    }
   ],
   "source": [
    "# Load Automobile_data.csv\n",
    "columns = ['Frequency','AOA','ChordLength','FreeStreamVelocity','SuctionThickness','SoundPressureLevel']\n",
    "df = pd.read_csv('airfoil_self_noise.dat',names=columns, sep='\\t')\n",
    "df.shape"
   ]
  },
  {
   "cell_type": "code",
   "execution_count": 3,
   "id": "a087fa0b",
   "metadata": {},
   "outputs": [
    {
     "data": {
      "text/html": [
       "<div>\n",
       "<style scoped>\n",
       "    .dataframe tbody tr th:only-of-type {\n",
       "        vertical-align: middle;\n",
       "    }\n",
       "\n",
       "    .dataframe tbody tr th {\n",
       "        vertical-align: top;\n",
       "    }\n",
       "\n",
       "    .dataframe thead th {\n",
       "        text-align: right;\n",
       "    }\n",
       "</style>\n",
       "<table border=\"1\" class=\"dataframe\">\n",
       "  <thead>\n",
       "    <tr style=\"text-align: right;\">\n",
       "      <th></th>\n",
       "      <th>Frequency</th>\n",
       "      <th>AOA</th>\n",
       "      <th>ChordLength</th>\n",
       "      <th>FreeStreamVelocity</th>\n",
       "      <th>SuctionThickness</th>\n",
       "      <th>SoundPressureLevel</th>\n",
       "    </tr>\n",
       "  </thead>\n",
       "  <tbody>\n",
       "    <tr>\n",
       "      <th>0</th>\n",
       "      <td>800</td>\n",
       "      <td>0.0</td>\n",
       "      <td>0.3048</td>\n",
       "      <td>71.3</td>\n",
       "      <td>0.002663</td>\n",
       "      <td>126.201</td>\n",
       "    </tr>\n",
       "    <tr>\n",
       "      <th>1</th>\n",
       "      <td>1000</td>\n",
       "      <td>0.0</td>\n",
       "      <td>0.3048</td>\n",
       "      <td>71.3</td>\n",
       "      <td>0.002663</td>\n",
       "      <td>125.201</td>\n",
       "    </tr>\n",
       "    <tr>\n",
       "      <th>2</th>\n",
       "      <td>1250</td>\n",
       "      <td>0.0</td>\n",
       "      <td>0.3048</td>\n",
       "      <td>71.3</td>\n",
       "      <td>0.002663</td>\n",
       "      <td>125.951</td>\n",
       "    </tr>\n",
       "    <tr>\n",
       "      <th>3</th>\n",
       "      <td>1600</td>\n",
       "      <td>0.0</td>\n",
       "      <td>0.3048</td>\n",
       "      <td>71.3</td>\n",
       "      <td>0.002663</td>\n",
       "      <td>127.591</td>\n",
       "    </tr>\n",
       "    <tr>\n",
       "      <th>4</th>\n",
       "      <td>2000</td>\n",
       "      <td>0.0</td>\n",
       "      <td>0.3048</td>\n",
       "      <td>71.3</td>\n",
       "      <td>0.002663</td>\n",
       "      <td>127.461</td>\n",
       "    </tr>\n",
       "  </tbody>\n",
       "</table>\n",
       "</div>"
      ],
      "text/plain": [
       "   Frequency  AOA  ChordLength  FreeStreamVelocity  SuctionThickness  \\\n",
       "0        800  0.0       0.3048                71.3          0.002663   \n",
       "1       1000  0.0       0.3048                71.3          0.002663   \n",
       "2       1250  0.0       0.3048                71.3          0.002663   \n",
       "3       1600  0.0       0.3048                71.3          0.002663   \n",
       "4       2000  0.0       0.3048                71.3          0.002663   \n",
       "\n",
       "   SoundPressureLevel  \n",
       "0             126.201  \n",
       "1             125.201  \n",
       "2             125.951  \n",
       "3             127.591  \n",
       "4             127.461  "
      ]
     },
     "execution_count": 3,
     "metadata": {},
     "output_type": "execute_result"
    }
   ],
   "source": [
    "df.head()"
   ]
  },
  {
   "cell_type": "code",
   "execution_count": 4,
   "id": "ccce66c2",
   "metadata": {},
   "outputs": [
    {
     "data": {
      "text/plain": [
       "Frequency             0\n",
       "AOA                   0\n",
       "ChordLength           0\n",
       "FreeStreamVelocity    0\n",
       "SuctionThickness      0\n",
       "SoundPressureLevel    0\n",
       "dtype: int64"
      ]
     },
     "execution_count": 4,
     "metadata": {},
     "output_type": "execute_result"
    }
   ],
   "source": [
    "df.isnull().sum()"
   ]
  },
  {
   "cell_type": "code",
   "execution_count": 5,
   "id": "e4e59f44",
   "metadata": {},
   "outputs": [
    {
     "name": "stdout",
     "output_type": "stream",
     "text": [
      "<class 'pandas.core.frame.DataFrame'>\n",
      "RangeIndex: 1503 entries, 0 to 1502\n",
      "Data columns (total 6 columns):\n",
      " #   Column              Non-Null Count  Dtype  \n",
      "---  ------              --------------  -----  \n",
      " 0   Frequency           1503 non-null   int64  \n",
      " 1   AOA                 1503 non-null   float64\n",
      " 2   ChordLength         1503 non-null   float64\n",
      " 3   FreeStreamVelocity  1503 non-null   float64\n",
      " 4   SuctionThickness    1503 non-null   float64\n",
      " 5   SoundPressureLevel  1503 non-null   float64\n",
      "dtypes: float64(5), int64(1)\n",
      "memory usage: 70.6 KB\n"
     ]
    }
   ],
   "source": [
    "df.info()"
   ]
  },
  {
   "cell_type": "code",
   "execution_count": 6,
   "id": "144a7401",
   "metadata": {},
   "outputs": [
    {
     "name": "stdout",
     "output_type": "stream",
     "text": [
      "(1052, 6)\n",
      "(451, 6)\n"
     ]
    }
   ],
   "source": [
    "# train test split\n",
    "from sklearn.model_selection import train_test_split\n",
    "df_train, df_test = train_test_split(df, train_size=0.7, random_state=100)\n",
    "print(df_train.shape)\n",
    "print(df_test.shape)"
   ]
  },
  {
   "cell_type": "code",
   "execution_count": 7,
   "id": "41c47043",
   "metadata": {},
   "outputs": [],
   "source": [
    "from sklearn.preprocessing import MinMaxScaler\n",
    "scaler = MinMaxScaler()"
   ]
  },
  {
   "cell_type": "code",
   "execution_count": 8,
   "id": "15ade754",
   "metadata": {},
   "outputs": [
    {
     "data": {
      "text/html": [
       "<div>\n",
       "<style scoped>\n",
       "    .dataframe tbody tr th:only-of-type {\n",
       "        vertical-align: middle;\n",
       "    }\n",
       "\n",
       "    .dataframe tbody tr th {\n",
       "        vertical-align: top;\n",
       "    }\n",
       "\n",
       "    .dataframe thead th {\n",
       "        text-align: right;\n",
       "    }\n",
       "</style>\n",
       "<table border=\"1\" class=\"dataframe\">\n",
       "  <thead>\n",
       "    <tr style=\"text-align: right;\">\n",
       "      <th></th>\n",
       "      <th>Frequency</th>\n",
       "      <th>AOA</th>\n",
       "      <th>ChordLength</th>\n",
       "      <th>FreeStreamVelocity</th>\n",
       "      <th>SuctionThickness</th>\n",
       "      <th>SoundPressureLevel</th>\n",
       "    </tr>\n",
       "  </thead>\n",
       "  <tbody>\n",
       "    <tr>\n",
       "      <th>355</th>\n",
       "      <td>0.116162</td>\n",
       "      <td>0.180180</td>\n",
       "      <td>0.727273</td>\n",
       "      <td>0.000000</td>\n",
       "      <td>0.080847</td>\n",
       "      <td>0.460589</td>\n",
       "    </tr>\n",
       "    <tr>\n",
       "      <th>625</th>\n",
       "      <td>0.242424</td>\n",
       "      <td>0.324324</td>\n",
       "      <td>0.454545</td>\n",
       "      <td>0.199495</td>\n",
       "      <td>0.149819</td>\n",
       "      <td>0.271170</td>\n",
       "    </tr>\n",
       "    <tr>\n",
       "      <th>1478</th>\n",
       "      <td>0.021717</td>\n",
       "      <td>0.702703</td>\n",
       "      <td>0.272727</td>\n",
       "      <td>1.000000</td>\n",
       "      <td>0.746850</td>\n",
       "      <td>0.517489</td>\n",
       "    </tr>\n",
       "    <tr>\n",
       "      <th>637</th>\n",
       "      <td>0.053030</td>\n",
       "      <td>0.445946</td>\n",
       "      <td>0.454545</td>\n",
       "      <td>1.000000</td>\n",
       "      <td>0.325792</td>\n",
       "      <td>0.528190</td>\n",
       "    </tr>\n",
       "    <tr>\n",
       "      <th>487</th>\n",
       "      <td>0.040404</td>\n",
       "      <td>0.000000</td>\n",
       "      <td>0.454545</td>\n",
       "      <td>0.199495</td>\n",
       "      <td>0.026412</td>\n",
       "      <td>0.729460</td>\n",
       "    </tr>\n",
       "  </tbody>\n",
       "</table>\n",
       "</div>"
      ],
      "text/plain": [
       "      Frequency       AOA  ChordLength  FreeStreamVelocity  SuctionThickness  \\\n",
       "355    0.116162  0.180180     0.727273            0.000000          0.080847   \n",
       "625    0.242424  0.324324     0.454545            0.199495          0.149819   \n",
       "1478   0.021717  0.702703     0.272727            1.000000          0.746850   \n",
       "637    0.053030  0.445946     0.454545            1.000000          0.325792   \n",
       "487    0.040404  0.000000     0.454545            0.199495          0.026412   \n",
       "\n",
       "      SoundPressureLevel  \n",
       "355             0.460589  \n",
       "625             0.271170  \n",
       "1478            0.517489  \n",
       "637             0.528190  \n",
       "487             0.729460  "
      ]
     },
     "execution_count": 8,
     "metadata": {},
     "output_type": "execute_result"
    }
   ],
   "source": [
    "df_train[df.columns.tolist()] = scaler.fit_transform(df_train[df.columns.tolist()])\n",
    "df_train.head()"
   ]
  },
  {
   "cell_type": "code",
   "execution_count": 9,
   "id": "b902b6b8",
   "metadata": {},
   "outputs": [],
   "source": [
    "y = df_train.pop('SoundPressureLevel')\n",
    "X = df_train"
   ]
  },
  {
   "cell_type": "code",
   "execution_count": 10,
   "id": "33f38885",
   "metadata": {},
   "outputs": [],
   "source": [
    "# Importing RFE and LinearRegression\n",
    "from sklearn.feature_selection import RFE\n",
    "from sklearn.linear_model import LinearRegression"
   ]
  },
  {
   "cell_type": "code",
   "execution_count": 11,
   "id": "b5f80489",
   "metadata": {},
   "outputs": [],
   "source": [
    "lm = LinearRegression()\n",
    "lm.fit(X, y)\n",
    "rfe = RFE(lm, 5)\n",
    "rfe = rfe.fit(X, y)"
   ]
  },
  {
   "cell_type": "code",
   "execution_count": 12,
   "id": "ca50a3f3",
   "metadata": {},
   "outputs": [
    {
     "data": {
      "text/plain": [
       "[('Frequency', True, 1),\n",
       " ('AOA', True, 1),\n",
       " ('ChordLength', True, 1),\n",
       " ('FreeStreamVelocity', True, 1),\n",
       " ('SuctionThickness', True, 1)]"
      ]
     },
     "execution_count": 12,
     "metadata": {},
     "output_type": "execute_result"
    }
   ],
   "source": [
    "list(zip(X.columns,rfe.support_,rfe.ranking_))"
   ]
  },
  {
   "cell_type": "code",
   "execution_count": 13,
   "id": "7f0df8d4",
   "metadata": {},
   "outputs": [
    {
     "data": {
      "text/plain": [
       "Index(['Frequency', 'AOA', 'ChordLength', 'FreeStreamVelocity',\n",
       "       'SuctionThickness'],\n",
       "      dtype='object')"
      ]
     },
     "execution_count": 13,
     "metadata": {},
     "output_type": "execute_result"
    }
   ],
   "source": [
    "col = X.columns[rfe.support_]\n",
    "col"
   ]
  },
  {
   "cell_type": "code",
   "execution_count": 14,
   "id": "7bc5229d",
   "metadata": {},
   "outputs": [
    {
     "data": {
      "text/plain": [
       "Index([], dtype='object')"
      ]
     },
     "execution_count": 14,
     "metadata": {},
     "output_type": "execute_result"
    }
   ],
   "source": [
    "X.columns[~rfe.support_]"
   ]
  },
  {
   "cell_type": "code",
   "execution_count": 15,
   "id": "1877f917",
   "metadata": {},
   "outputs": [],
   "source": [
    "X_train_rfe = X[col]"
   ]
  },
  {
   "cell_type": "code",
   "execution_count": 16,
   "id": "6ed1fa29",
   "metadata": {},
   "outputs": [],
   "source": [
    "import statsmodels.api as sm  \n",
    "X_train_rfe = sm.add_constant(X_train_rfe)"
   ]
  },
  {
   "cell_type": "code",
   "execution_count": 17,
   "id": "9fb7868f",
   "metadata": {},
   "outputs": [],
   "source": [
    "lm = sm.OLS(y,X_train_rfe).fit()"
   ]
  },
  {
   "cell_type": "code",
   "execution_count": 18,
   "id": "7c197a5e",
   "metadata": {},
   "outputs": [
    {
     "name": "stdout",
     "output_type": "stream",
     "text": [
      "                            OLS Regression Results                            \n",
      "==============================================================================\n",
      "Dep. Variable:     SoundPressureLevel   R-squared:                       0.513\n",
      "Model:                            OLS   Adj. R-squared:                  0.511\n",
      "Method:                 Least Squares   F-statistic:                     220.4\n",
      "Date:                Fri, 22 Oct 2021   Prob (F-statistic):          1.28e-160\n",
      "Time:                        22:11:57   Log-Likelihood:                 652.24\n",
      "No. Observations:                1052   AIC:                            -1292.\n",
      "Df Residuals:                    1046   BIC:                            -1263.\n",
      "Df Model:                           5                                         \n",
      "Covariance Type:            nonrobust                                         \n",
      "======================================================================================\n",
      "                         coef    std err          t      P>|t|      [0.025      0.975]\n",
      "--------------------------------------------------------------------------------------\n",
      "const                  0.8542      0.013     66.909      0.000       0.829       0.879\n",
      "Frequency             -0.7249      0.027    -26.359      0.000      -0.779      -0.671\n",
      "AOA                   -0.2555      0.028     -9.115      0.000      -0.311      -0.201\n",
      "ChordLength           -0.2561      0.015    -17.508      0.000      -0.285      -0.227\n",
      "FreeStreamVelocity     0.1056      0.010     10.099      0.000       0.085       0.126\n",
      "SuctionThickness      -0.2167      0.030     -7.337      0.000      -0.275      -0.159\n",
      "==============================================================================\n",
      "Omnibus:                       11.712   Durbin-Watson:                   2.010\n",
      "Prob(Omnibus):                  0.003   Jarque-Bera (JB):               17.812\n",
      "Skew:                          -0.046   Prob(JB):                     0.000136\n",
      "Kurtosis:                       3.631   Cond. No.                         12.3\n",
      "==============================================================================\n",
      "\n",
      "Notes:\n",
      "[1] Standard Errors assume that the covariance matrix of the errors is correctly specified.\n"
     ]
    }
   ],
   "source": [
    "#Let's see the summary of our linear model\n",
    "print(lm.summary())"
   ]
  },
  {
   "cell_type": "code",
   "execution_count": 19,
   "id": "00f28c70",
   "metadata": {},
   "outputs": [
    {
     "data": {
      "text/html": [
       "<div>\n",
       "<style scoped>\n",
       "    .dataframe tbody tr th:only-of-type {\n",
       "        vertical-align: middle;\n",
       "    }\n",
       "\n",
       "    .dataframe tbody tr th {\n",
       "        vertical-align: top;\n",
       "    }\n",
       "\n",
       "    .dataframe thead th {\n",
       "        text-align: right;\n",
       "    }\n",
       "</style>\n",
       "<table border=\"1\" class=\"dataframe\">\n",
       "  <thead>\n",
       "    <tr style=\"text-align: right;\">\n",
       "      <th></th>\n",
       "      <th>Features</th>\n",
       "      <th>VIF</th>\n",
       "    </tr>\n",
       "  </thead>\n",
       "  <tbody>\n",
       "    <tr>\n",
       "      <th>1</th>\n",
       "      <td>AOA</td>\n",
       "      <td>4.79</td>\n",
       "    </tr>\n",
       "    <tr>\n",
       "      <th>4</th>\n",
       "      <td>SuctionThickness</td>\n",
       "      <td>4.10</td>\n",
       "    </tr>\n",
       "    <tr>\n",
       "      <th>3</th>\n",
       "      <td>FreeStreamVelocity</td>\n",
       "      <td>2.40</td>\n",
       "    </tr>\n",
       "    <tr>\n",
       "      <th>2</th>\n",
       "      <td>ChordLength</td>\n",
       "      <td>1.71</td>\n",
       "    </tr>\n",
       "    <tr>\n",
       "      <th>0</th>\n",
       "      <td>Frequency</td>\n",
       "      <td>1.58</td>\n",
       "    </tr>\n",
       "  </tbody>\n",
       "</table>\n",
       "</div>"
      ],
      "text/plain": [
       "             Features   VIF\n",
       "1                 AOA  4.79\n",
       "4    SuctionThickness  4.10\n",
       "3  FreeStreamVelocity  2.40\n",
       "2         ChordLength  1.71\n",
       "0           Frequency  1.58"
      ]
     },
     "execution_count": 19,
     "metadata": {},
     "output_type": "execute_result"
    }
   ],
   "source": [
    "from statsmodels.stats.outliers_influence import variance_inflation_factor\n",
    "\n",
    "vif = pd.DataFrame()\n",
    "X_train_rfe = X_train_rfe.drop(['const'], axis=1)\n",
    "X = X_train_rfe\n",
    "vif['Features'] = X.columns\n",
    "vif['VIF'] = [variance_inflation_factor(X.values, i) for i in range(X.shape[1])]\n",
    "vif['VIF'] = round(vif['VIF'], 2)\n",
    "vif = vif.sort_values(by = \"VIF\", ascending = False)\n",
    "vif"
   ]
  },
  {
   "cell_type": "code",
   "execution_count": null,
   "id": "c9ea5884",
   "metadata": {},
   "outputs": [],
   "source": []
  },
  {
   "cell_type": "code",
   "execution_count": null,
   "id": "53feb8ab",
   "metadata": {},
   "outputs": [],
   "source": []
  }
 ],
 "metadata": {
  "kernelspec": {
   "display_name": "Python 3",
   "language": "python",
   "name": "python3"
  },
  "language_info": {
   "codemirror_mode": {
    "name": "ipython",
    "version": 3
   },
   "file_extension": ".py",
   "mimetype": "text/x-python",
   "name": "python",
   "nbconvert_exporter": "python",
   "pygments_lexer": "ipython3",
   "version": "3.8.8"
  }
 },
 "nbformat": 4,
 "nbformat_minor": 5
}
